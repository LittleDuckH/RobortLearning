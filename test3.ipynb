{
 "cells": [
  {
   "cell_type": "code",
   "execution_count": 9,
   "metadata": {
    "collapsed": true,
    "pycharm": {
     "name": "#%%\n"
    }
   },
   "outputs": [
    {
     "name": "stderr",
     "output_type": "stream",
     "text": [
      "D:\\anaconda\\envs\\learn\\lib\\site-packages\\IPython\\core\\interactiveshell.py:3553: FutureWarning: In a future version of pandas all arguments of read_csv except for the argument 'filepath_or_buffer' will be keyword-only\n",
      "  exec(code_obj, self.user_global_ns, self.user_ns)\n"
     ]
    }
   ],
   "source": [
    "import pandas as pd\n",
    "import numpy as np\n",
    "import matplotlib.pyplot as plt\n",
    "%matplotlib inline\n",
    "from sklearn.ensemble import AdaBoostRegressor,ExtraTreesRegressor,GradientBoostingRegressor,RandomForestRegressor\n",
    "from sklearn.decomposition import PCA\n",
    "from sklearn.linear_model import LinearRegression,LogisticRegression\n",
    "test = pd.read_csv('zhengqi_test.txt','\\t')\n",
    "train = pd.read_csv('zhengqi_train.txt','\\t')\n",
    "# train.head()"
   ]
  },
  {
   "cell_type": "code",
   "execution_count": 10,
   "outputs": [
    {
     "data": {
      "text/plain": "(2888, 39)"
     },
     "execution_count": 10,
     "metadata": {},
     "output_type": "execute_result"
    }
   ],
   "source": [
    "train.shape"
   ],
   "metadata": {
    "collapsed": false,
    "pycharm": {
     "name": "#%%\n"
    }
   }
  },
  {
   "cell_type": "code",
   "execution_count": 11,
   "outputs": [],
   "source": [
    "X_train =  train.iloc[:,0:38]  # 将训练数据集中的前38列作为特征变量，存储到变量X_train中。\n",
    "y_train = train.iloc[:,-1]     # 将训练数据集的最后一列作为目标变量，存储到变量y_train中。\n",
    "X_test = test.iloc[:,0:38]     # 将测试数据集中的前38列作为特征变量，存储到变量X_test中。\n",
    "y_test = test.iloc[:,-1]       # 将测试数据集的最后一列作为目标变量，存储到变量y_test中。"
   ],
   "metadata": {
    "collapsed": false,
    "pycharm": {
     "name": "#%%\n"
    }
   }
  },
  {
   "cell_type": "code",
   "execution_count": 12,
   "outputs": [
    {
     "data": {
      "text/plain": "-2.1601497766993525"
     },
     "execution_count": 12,
     "metadata": {},
     "output_type": "execute_result"
    }
   ],
   "source": [
    "ada = AdaBoostRegressor(n_estimators=100,learning_rate=0.01,loss='exponential')\n",
    "ada.fit(X_train,y_train)\n",
    "ada.predict(X_test)\n",
    "ada.score(X_test,y_test)"
   ],
   "metadata": {
    "collapsed": false,
    "pycharm": {
     "name": "#%%\n"
    }
   }
  },
  {
   "cell_type": "code",
   "execution_count": 13,
   "outputs": [],
   "source": [
    "estimators = {}\n",
    "estimators['ada'] = AdaBoostRegressor(n_estimators=100)\n",
    "estimators['forest'] = RandomForestRegressor(n_estimators=100)\n",
    "estimators['extra'] = ExtraTreesRegressor(n_estimators=100)\n",
    "estimators['gbr'] = GradientBoostingRegressor(n_estimators=100)\n",
    "estimators['linear'] = LinearRegression()\n",
    "# estimators['logis']  = LogisticRegression()"
   ],
   "metadata": {
    "collapsed": false,
    "pycharm": {
     "name": "#%%\n"
    }
   }
  },
  {
   "cell_type": "code",
   "execution_count": 14,
   "outputs": [],
   "source": [
    "pca  = PCA(n_components=17,whiten=True)\n",
    "X_train_pca = pca.fit_transform(X_train)\n",
    "X_test_pca = pca.fit_transform(X_test)"
   ],
   "metadata": {
    "collapsed": false,
    "pycharm": {
     "name": "#%%\n"
    }
   }
  },
  {
   "cell_type": "code",
   "execution_count": 15,
   "outputs": [
    {
     "data": {
      "text/plain": "(2888, 17)"
     },
     "execution_count": 15,
     "metadata": {},
     "output_type": "execute_result"
    }
   ],
   "source": [
    "X_train_pca.shape"
   ],
   "metadata": {
    "collapsed": false,
    "pycharm": {
     "name": "#%%\n"
    }
   }
  },
  {
   "cell_type": "code",
   "execution_count": 16,
   "outputs": [
    {
     "name": "stdout",
     "output_type": "stream",
     "text": [
      "ada -2.1019638218330234 2.742962769823939\n",
      "forest -2.23462813502397 2.860273381058598\n",
      "extra -2.2049590003460238 2.834037958433195\n",
      "gbr -2.275213892393084 2.896162007697319\n",
      "linear -6.627197780135942 6.744475677551231\n"
     ]
    }
   ],
   "source": [
    "# estimators.items()\n",
    "from sklearn.metrics import mean_squared_error  # 用于计算均方误差\n",
    "for key,model in estimators.items():  # 每个键值对进行循环遍历，其中key表示模型的名称，model表示对应的回归模型。\n",
    "    model.fit(X_train,y_train)\n",
    "    score = model.score(X_test,y_test)\n",
    "    y_ = model.predict(X_test)\n",
    "    mse = mean_squared_error(y_test,y_)\n",
    "    print(key,score,mse)"
   ],
   "metadata": {
    "collapsed": false,
    "pycharm": {
     "name": "#%%\n"
    }
   }
  },
  {
   "cell_type": "code",
   "execution_count": 17,
   "outputs": [
    {
     "name": "stdout",
     "output_type": "stream",
     "text": [
      "ada -1.31218550990461 2.044588246308736\n",
      "forest -1.6348984410781555 2.3299524885734026\n",
      "extra -1.639297123949214 2.3338420965909608\n",
      "gbr -1.580137665829652 2.28152936813076\n",
      "linear -1.5689031321009281 2.2715950460289593\n"
     ]
    }
   ],
   "source": [
    "# estimators.items()\n",
    "# 使用经过PCA降维后的数据进行训练、预测和评估，输出模型的得分（score）和均方误差（mean_squared_error）。\n",
    "from sklearn.metrics import mean_squared_error\n",
    "for key,model in estimators.items():\n",
    "    model.fit(X_train_pca,y_train)\n",
    "    score = model.score(X_test_pca,y_test)\n",
    "    y_ = model.predict(X_test_pca)\n",
    "    mse = mean_squared_error(y_test,y_)\n",
    "    print(key,score,mse)"
   ],
   "metadata": {
    "collapsed": false,
    "pycharm": {
     "name": "#%%\n"
    }
   }
  },
  {
   "cell_type": "code",
   "execution_count": 18,
   "outputs": [],
   "source": [
    "# 使用已经训练好的AdaBoostRegressor模型（存储在estimators字典中的'ada'键对应的值）对经过PCA降维后的测试数据集X_test_pca进行预测，并将预测结果保存到文件中。\n",
    "ada = estimators['ada']\n",
    "s = ada.predict(X_test_pca)\n",
    "s = pd.DataFrame(s)\n",
    "s.to_csv('result.txt')\n",
    "np.savetxt('D:\\\\desktop\\\\result.txt',s)"
   ],
   "metadata": {
    "collapsed": false,
    "pycharm": {
     "name": "#%%\n"
    }
   }
  }
 ],
 "metadata": {
  "kernelspec": {
   "display_name": "Python 3",
   "language": "python",
   "name": "python3"
  },
  "language_info": {
   "codemirror_mode": {
    "name": "ipython",
    "version": 2
   },
   "file_extension": ".py",
   "mimetype": "text/x-python",
   "name": "python",
   "nbconvert_exporter": "python",
   "pygments_lexer": "ipython2",
   "version": "2.7.6"
  }
 },
 "nbformat": 4,
 "nbformat_minor": 0
}